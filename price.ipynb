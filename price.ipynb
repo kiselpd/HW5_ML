{
  "nbformat": 4,
  "nbformat_minor": 0,
  "metadata": {
    "colab": {
      "name": "Untitled8.ipynb",
      "provenance": [],
      "authorship_tag": "ABX9TyMO5POsiNlmTydEVT/rYDhQ",
      "include_colab_link": true
    },
    "kernelspec": {
      "name": "python3",
      "display_name": "Python 3"
    },
    "language_info": {
      "name": "python"
    }
  },
  "cells": [
    {
      "cell_type": "markdown",
      "metadata": {
        "id": "view-in-github",
        "colab_type": "text"
      },
      "source": [
        "<a href=\"https://colab.research.google.com/github/kiselpd/HW5_ML/blob/main/price.ipynb\" target=\"_parent\"><img src=\"https://colab.research.google.com/assets/colab-badge.svg\" alt=\"Open In Colab\"/></a>"
      ]
    },
    {
      "cell_type": "code",
      "execution_count": 1,
      "metadata": {
        "colab": {
          "base_uri": "https://localhost:8080/"
        },
        "id": "g0dfWOv5HKon",
        "outputId": "be3d5d43-43b6-4fbe-ec7a-717f7cc8fc46"
      },
      "outputs": [
        {
          "output_type": "stream",
          "name": "stdout",
          "text": [
            "Drive already mounted at /content/drive; to attempt to forcibly remount, call drive.mount(\"/content/drive\", force_remount=True).\n",
            "/content/drive/MyDrive/GoogleColab/HW5\n"
          ]
        }
      ],
      "source": [
        "#for my GoogleDisk\n",
        "from google.colab import drive\n",
        "drive.mount('/content/drive')\n",
        "%cd /content/drive/MyDrive/GoogleColab/HW5"
      ]
    },
    {
      "cell_type": "code",
      "source": [
        "%matplotlib inline\n",
        "import pandas as pd\n",
        "import numpy as np"
      ],
      "metadata": {
        "id": "UhB9NgZDHXJh"
      },
      "execution_count": 2,
      "outputs": []
    },
    {
      "cell_type": "code",
      "source": [
        "train_df = pd.read_csv('Train.csv')\n",
        "test_df = pd.read_csv('Test.csv')"
      ],
      "metadata": {
        "id": "afZzWkEKHlLL"
      },
      "execution_count": 3,
      "outputs": []
    },
    {
      "cell_type": "code",
      "source": [
        "import datetime as dt\n",
        "train_df[\"date\"] = pd.to_datetime(train_df[\"date\"]).map(dt.datetime.toordinal)\n",
        "test_df[\"date\"] = pd.to_datetime(test_df[\"date\"]).map(dt.datetime.toordinal)"
      ],
      "metadata": {
        "id": "S7kxfGWZ2O-l"
      },
      "execution_count": 4,
      "outputs": []
    },
    {
      "cell_type": "code",
      "source": [
        "from sklearn.model_selection import train_test_split"
      ],
      "metadata": {
        "id": "RsKpSatuczOn"
      },
      "execution_count": 5,
      "outputs": []
    },
    {
      "cell_type": "code",
      "source": [
        "train_df = train_df.drop(columns = [\"id\"])\n",
        "test_df = test_df.drop(columns = [\"id\"])"
      ],
      "metadata": {
        "id": "8xeZTHlk8USJ"
      },
      "execution_count": 6,
      "outputs": []
    },
    {
      "cell_type": "code",
      "source": [
        "train_df.columns"
      ],
      "metadata": {
        "colab": {
          "base_uri": "https://localhost:8080/"
        },
        "id": "JH9Bb4p7NDPV",
        "outputId": "1cf08270-8565-4539-9688-a0e868e51e28"
      },
      "execution_count": 7,
      "outputs": [
        {
          "output_type": "execute_result",
          "data": {
            "text/plain": [
              "Index(['date', 'street_id', 'build_tech', 'floor', 'area', 'rooms', 'balcon',\n",
              "       'metro_dist', 'g_lift', 'n_photos', 'kw1', 'kw2', 'kw3', 'kw4', 'kw5',\n",
              "       'kw6', 'kw7', 'kw8', 'kw9', 'kw10', 'kw11', 'kw12', 'kw13', 'price'],\n",
              "      dtype='object')"
            ]
          },
          "metadata": {},
          "execution_count": 7
        }
      ]
    },
    {
      "cell_type": "code",
      "source": [
        "X, y = train_test_split(train_df, test_size=0.33, random_state=42,  shuffle = False)"
      ],
      "metadata": {
        "id": "ZaJIifFeH3bU"
      },
      "execution_count": 8,
      "outputs": []
    },
    {
      "cell_type": "code",
      "source": [
        "from sklearn.impute import KNNImputer"
      ],
      "metadata": {
        "id": "N_DyFKxILX8U"
      },
      "execution_count": 9,
      "outputs": []
    },
    {
      "cell_type": "code",
      "source": [
        "imputer = KNNImputer(n_neighbors = 50)\n",
        "X = imputer.fit_transform(X)\n",
        "y = imputer.fit_transform(y)"
      ],
      "metadata": {
        "id": "J1EPXT66MOG2"
      },
      "execution_count": 10,
      "outputs": []
    },
    {
      "cell_type": "code",
      "source": [
        "X = pd.DataFrame(X, columns = train_df.columns)\n",
        "y = pd.DataFrame(y, columns = train_df.columns)"
      ],
      "metadata": {
        "id": "GG2CevmNM8xn"
      },
      "execution_count": 11,
      "outputs": []
    },
    {
      "cell_type": "code",
      "source": [
        "y_train = X[\"price\"]\n",
        "X_train = X.drop(columns = [\"price\"])"
      ],
      "metadata": {
        "id": "R_ZPioPlVT4h"
      },
      "execution_count": 12,
      "outputs": []
    },
    {
      "cell_type": "code",
      "source": [
        "y_test = y[\"price\"]\n",
        "X_test = y.drop(columns = [\"price\"])"
      ],
      "metadata": {
        "id": "IT6YKFKfZCM9"
      },
      "execution_count": 13,
      "outputs": []
    },
    {
      "cell_type": "code",
      "source": [
        "X_train"
      ],
      "metadata": {
        "colab": {
          "base_uri": "https://localhost:8080/",
          "height": 424
        },
        "id": "xoSFXszQVVAo",
        "outputId": "772f79dc-4548-401a-eb45-8aaaea19b9e1"
      },
      "execution_count": 14,
      "outputs": [
        {
          "output_type": "execute_result",
          "data": {
            "text/plain": [
              "           date  street_id  build_tech  floor  area  rooms  balcon  \\\n",
              "0      734138.0      560.0         0.6    2.0  59.0    3.0     0.0   \n",
              "1      734138.0      667.0         1.1   10.0  50.0    2.0     1.0   \n",
              "2      734138.0       90.0         0.0    1.0  48.0    2.0     0.0   \n",
              "3      734138.0       94.0         1.0    3.0  62.0    3.0     1.0   \n",
              "4      734138.0      232.0         0.0    3.0  60.0    3.0     0.0   \n",
              "...         ...        ...         ...    ...   ...    ...     ...   \n",
              "66995  734503.0      412.0         0.0    8.0  59.0    3.0     0.0   \n",
              "66996  734503.0      438.0         0.0    1.0  34.0    1.0     0.0   \n",
              "66997  734503.0      240.0         0.0   12.0  39.0    1.0     0.0   \n",
              "66998  734503.0       25.0         1.0    3.0  35.0    1.0     0.0   \n",
              "66999  734503.0        9.0         1.0    8.0  60.0    3.0     1.0   \n",
              "\n",
              "       metro_dist  g_lift  n_photos  ...  kw4  kw5  kw6  kw7  kw8  kw9  kw10  \\\n",
              "0            30.0    1.00       5.0  ...  0.0  0.0  0.0  0.0  0.0  0.0   0.0   \n",
              "1            25.0    0.44       1.0  ...  0.0  0.0  0.0  0.0  0.0  0.0   0.0   \n",
              "2            25.0    0.00       1.0  ...  0.0  0.0  0.0  0.0  0.0  0.0   0.0   \n",
              "3            30.0    0.48       3.0  ...  0.0  0.0  0.0  0.0  0.0  0.0   0.0   \n",
              "4            25.0    0.54       3.0  ...  0.0  0.0  0.0  0.0  0.0  0.0   0.0   \n",
              "...           ...     ...       ...  ...  ...  ...  ...  ...  ...  ...   ...   \n",
              "66995        10.0    1.00       2.0  ...  0.0  0.0  0.0  0.0  0.0  0.0   0.0   \n",
              "66996        15.0    1.00       0.0  ...  0.0  0.0  0.0  0.0  0.0  0.0   0.0   \n",
              "66997        15.0    1.00       3.0  ...  0.0  0.0  0.0  0.0  0.0  0.0   0.0   \n",
              "66998         0.0    1.00       0.0  ...  0.0  0.0  0.0  0.0  0.0  0.0   0.0   \n",
              "66999        30.0    0.00       0.0  ...  0.0  0.0  0.0  0.0  0.0  0.0   0.0   \n",
              "\n",
              "       kw11  kw12  kw13  \n",
              "0       0.0   0.0   0.0  \n",
              "1       0.0   0.0   0.0  \n",
              "2       0.0   0.0   0.0  \n",
              "3       0.0   0.0   0.0  \n",
              "4       0.0   0.0   0.0  \n",
              "...     ...   ...   ...  \n",
              "66995   0.0   0.0   0.0  \n",
              "66996   0.0   0.0   0.0  \n",
              "66997   0.0   0.0   0.0  \n",
              "66998   0.0   0.0   0.0  \n",
              "66999   0.0   0.0   0.0  \n",
              "\n",
              "[67000 rows x 23 columns]"
            ],
            "text/html": [
              "\n",
              "  <div id=\"df-41186e11-eeda-43c2-9f4c-b56e2d279477\">\n",
              "    <div class=\"colab-df-container\">\n",
              "      <div>\n",
              "<style scoped>\n",
              "    .dataframe tbody tr th:only-of-type {\n",
              "        vertical-align: middle;\n",
              "    }\n",
              "\n",
              "    .dataframe tbody tr th {\n",
              "        vertical-align: top;\n",
              "    }\n",
              "\n",
              "    .dataframe thead th {\n",
              "        text-align: right;\n",
              "    }\n",
              "</style>\n",
              "<table border=\"1\" class=\"dataframe\">\n",
              "  <thead>\n",
              "    <tr style=\"text-align: right;\">\n",
              "      <th></th>\n",
              "      <th>date</th>\n",
              "      <th>street_id</th>\n",
              "      <th>build_tech</th>\n",
              "      <th>floor</th>\n",
              "      <th>area</th>\n",
              "      <th>rooms</th>\n",
              "      <th>balcon</th>\n",
              "      <th>metro_dist</th>\n",
              "      <th>g_lift</th>\n",
              "      <th>n_photos</th>\n",
              "      <th>...</th>\n",
              "      <th>kw4</th>\n",
              "      <th>kw5</th>\n",
              "      <th>kw6</th>\n",
              "      <th>kw7</th>\n",
              "      <th>kw8</th>\n",
              "      <th>kw9</th>\n",
              "      <th>kw10</th>\n",
              "      <th>kw11</th>\n",
              "      <th>kw12</th>\n",
              "      <th>kw13</th>\n",
              "    </tr>\n",
              "  </thead>\n",
              "  <tbody>\n",
              "    <tr>\n",
              "      <th>0</th>\n",
              "      <td>734138.0</td>\n",
              "      <td>560.0</td>\n",
              "      <td>0.6</td>\n",
              "      <td>2.0</td>\n",
              "      <td>59.0</td>\n",
              "      <td>3.0</td>\n",
              "      <td>0.0</td>\n",
              "      <td>30.0</td>\n",
              "      <td>1.00</td>\n",
              "      <td>5.0</td>\n",
              "      <td>...</td>\n",
              "      <td>0.0</td>\n",
              "      <td>0.0</td>\n",
              "      <td>0.0</td>\n",
              "      <td>0.0</td>\n",
              "      <td>0.0</td>\n",
              "      <td>0.0</td>\n",
              "      <td>0.0</td>\n",
              "      <td>0.0</td>\n",
              "      <td>0.0</td>\n",
              "      <td>0.0</td>\n",
              "    </tr>\n",
              "    <tr>\n",
              "      <th>1</th>\n",
              "      <td>734138.0</td>\n",
              "      <td>667.0</td>\n",
              "      <td>1.1</td>\n",
              "      <td>10.0</td>\n",
              "      <td>50.0</td>\n",
              "      <td>2.0</td>\n",
              "      <td>1.0</td>\n",
              "      <td>25.0</td>\n",
              "      <td>0.44</td>\n",
              "      <td>1.0</td>\n",
              "      <td>...</td>\n",
              "      <td>0.0</td>\n",
              "      <td>0.0</td>\n",
              "      <td>0.0</td>\n",
              "      <td>0.0</td>\n",
              "      <td>0.0</td>\n",
              "      <td>0.0</td>\n",
              "      <td>0.0</td>\n",
              "      <td>0.0</td>\n",
              "      <td>0.0</td>\n",
              "      <td>0.0</td>\n",
              "    </tr>\n",
              "    <tr>\n",
              "      <th>2</th>\n",
              "      <td>734138.0</td>\n",
              "      <td>90.0</td>\n",
              "      <td>0.0</td>\n",
              "      <td>1.0</td>\n",
              "      <td>48.0</td>\n",
              "      <td>2.0</td>\n",
              "      <td>0.0</td>\n",
              "      <td>25.0</td>\n",
              "      <td>0.00</td>\n",
              "      <td>1.0</td>\n",
              "      <td>...</td>\n",
              "      <td>0.0</td>\n",
              "      <td>0.0</td>\n",
              "      <td>0.0</td>\n",
              "      <td>0.0</td>\n",
              "      <td>0.0</td>\n",
              "      <td>0.0</td>\n",
              "      <td>0.0</td>\n",
              "      <td>0.0</td>\n",
              "      <td>0.0</td>\n",
              "      <td>0.0</td>\n",
              "    </tr>\n",
              "    <tr>\n",
              "      <th>3</th>\n",
              "      <td>734138.0</td>\n",
              "      <td>94.0</td>\n",
              "      <td>1.0</td>\n",
              "      <td>3.0</td>\n",
              "      <td>62.0</td>\n",
              "      <td>3.0</td>\n",
              "      <td>1.0</td>\n",
              "      <td>30.0</td>\n",
              "      <td>0.48</td>\n",
              "      <td>3.0</td>\n",
              "      <td>...</td>\n",
              "      <td>0.0</td>\n",
              "      <td>0.0</td>\n",
              "      <td>0.0</td>\n",
              "      <td>0.0</td>\n",
              "      <td>0.0</td>\n",
              "      <td>0.0</td>\n",
              "      <td>0.0</td>\n",
              "      <td>0.0</td>\n",
              "      <td>0.0</td>\n",
              "      <td>0.0</td>\n",
              "    </tr>\n",
              "    <tr>\n",
              "      <th>4</th>\n",
              "      <td>734138.0</td>\n",
              "      <td>232.0</td>\n",
              "      <td>0.0</td>\n",
              "      <td>3.0</td>\n",
              "      <td>60.0</td>\n",
              "      <td>3.0</td>\n",
              "      <td>0.0</td>\n",
              "      <td>25.0</td>\n",
              "      <td>0.54</td>\n",
              "      <td>3.0</td>\n",
              "      <td>...</td>\n",
              "      <td>0.0</td>\n",
              "      <td>0.0</td>\n",
              "      <td>0.0</td>\n",
              "      <td>0.0</td>\n",
              "      <td>0.0</td>\n",
              "      <td>0.0</td>\n",
              "      <td>0.0</td>\n",
              "      <td>0.0</td>\n",
              "      <td>0.0</td>\n",
              "      <td>0.0</td>\n",
              "    </tr>\n",
              "    <tr>\n",
              "      <th>...</th>\n",
              "      <td>...</td>\n",
              "      <td>...</td>\n",
              "      <td>...</td>\n",
              "      <td>...</td>\n",
              "      <td>...</td>\n",
              "      <td>...</td>\n",
              "      <td>...</td>\n",
              "      <td>...</td>\n",
              "      <td>...</td>\n",
              "      <td>...</td>\n",
              "      <td>...</td>\n",
              "      <td>...</td>\n",
              "      <td>...</td>\n",
              "      <td>...</td>\n",
              "      <td>...</td>\n",
              "      <td>...</td>\n",
              "      <td>...</td>\n",
              "      <td>...</td>\n",
              "      <td>...</td>\n",
              "      <td>...</td>\n",
              "      <td>...</td>\n",
              "    </tr>\n",
              "    <tr>\n",
              "      <th>66995</th>\n",
              "      <td>734503.0</td>\n",
              "      <td>412.0</td>\n",
              "      <td>0.0</td>\n",
              "      <td>8.0</td>\n",
              "      <td>59.0</td>\n",
              "      <td>3.0</td>\n",
              "      <td>0.0</td>\n",
              "      <td>10.0</td>\n",
              "      <td>1.00</td>\n",
              "      <td>2.0</td>\n",
              "      <td>...</td>\n",
              "      <td>0.0</td>\n",
              "      <td>0.0</td>\n",
              "      <td>0.0</td>\n",
              "      <td>0.0</td>\n",
              "      <td>0.0</td>\n",
              "      <td>0.0</td>\n",
              "      <td>0.0</td>\n",
              "      <td>0.0</td>\n",
              "      <td>0.0</td>\n",
              "      <td>0.0</td>\n",
              "    </tr>\n",
              "    <tr>\n",
              "      <th>66996</th>\n",
              "      <td>734503.0</td>\n",
              "      <td>438.0</td>\n",
              "      <td>0.0</td>\n",
              "      <td>1.0</td>\n",
              "      <td>34.0</td>\n",
              "      <td>1.0</td>\n",
              "      <td>0.0</td>\n",
              "      <td>15.0</td>\n",
              "      <td>1.00</td>\n",
              "      <td>0.0</td>\n",
              "      <td>...</td>\n",
              "      <td>0.0</td>\n",
              "      <td>0.0</td>\n",
              "      <td>0.0</td>\n",
              "      <td>0.0</td>\n",
              "      <td>0.0</td>\n",
              "      <td>0.0</td>\n",
              "      <td>0.0</td>\n",
              "      <td>0.0</td>\n",
              "      <td>0.0</td>\n",
              "      <td>0.0</td>\n",
              "    </tr>\n",
              "    <tr>\n",
              "      <th>66997</th>\n",
              "      <td>734503.0</td>\n",
              "      <td>240.0</td>\n",
              "      <td>0.0</td>\n",
              "      <td>12.0</td>\n",
              "      <td>39.0</td>\n",
              "      <td>1.0</td>\n",
              "      <td>0.0</td>\n",
              "      <td>15.0</td>\n",
              "      <td>1.00</td>\n",
              "      <td>3.0</td>\n",
              "      <td>...</td>\n",
              "      <td>0.0</td>\n",
              "      <td>0.0</td>\n",
              "      <td>0.0</td>\n",
              "      <td>0.0</td>\n",
              "      <td>0.0</td>\n",
              "      <td>0.0</td>\n",
              "      <td>0.0</td>\n",
              "      <td>0.0</td>\n",
              "      <td>0.0</td>\n",
              "      <td>0.0</td>\n",
              "    </tr>\n",
              "    <tr>\n",
              "      <th>66998</th>\n",
              "      <td>734503.0</td>\n",
              "      <td>25.0</td>\n",
              "      <td>1.0</td>\n",
              "      <td>3.0</td>\n",
              "      <td>35.0</td>\n",
              "      <td>1.0</td>\n",
              "      <td>0.0</td>\n",
              "      <td>0.0</td>\n",
              "      <td>1.00</td>\n",
              "      <td>0.0</td>\n",
              "      <td>...</td>\n",
              "      <td>0.0</td>\n",
              "      <td>0.0</td>\n",
              "      <td>0.0</td>\n",
              "      <td>0.0</td>\n",
              "      <td>0.0</td>\n",
              "      <td>0.0</td>\n",
              "      <td>0.0</td>\n",
              "      <td>0.0</td>\n",
              "      <td>0.0</td>\n",
              "      <td>0.0</td>\n",
              "    </tr>\n",
              "    <tr>\n",
              "      <th>66999</th>\n",
              "      <td>734503.0</td>\n",
              "      <td>9.0</td>\n",
              "      <td>1.0</td>\n",
              "      <td>8.0</td>\n",
              "      <td>60.0</td>\n",
              "      <td>3.0</td>\n",
              "      <td>1.0</td>\n",
              "      <td>30.0</td>\n",
              "      <td>0.00</td>\n",
              "      <td>0.0</td>\n",
              "      <td>...</td>\n",
              "      <td>0.0</td>\n",
              "      <td>0.0</td>\n",
              "      <td>0.0</td>\n",
              "      <td>0.0</td>\n",
              "      <td>0.0</td>\n",
              "      <td>0.0</td>\n",
              "      <td>0.0</td>\n",
              "      <td>0.0</td>\n",
              "      <td>0.0</td>\n",
              "      <td>0.0</td>\n",
              "    </tr>\n",
              "  </tbody>\n",
              "</table>\n",
              "<p>67000 rows × 23 columns</p>\n",
              "</div>\n",
              "      <button class=\"colab-df-convert\" onclick=\"convertToInteractive('df-41186e11-eeda-43c2-9f4c-b56e2d279477')\"\n",
              "              title=\"Convert this dataframe to an interactive table.\"\n",
              "              style=\"display:none;\">\n",
              "        \n",
              "  <svg xmlns=\"http://www.w3.org/2000/svg\" height=\"24px\"viewBox=\"0 0 24 24\"\n",
              "       width=\"24px\">\n",
              "    <path d=\"M0 0h24v24H0V0z\" fill=\"none\"/>\n",
              "    <path d=\"M18.56 5.44l.94 2.06.94-2.06 2.06-.94-2.06-.94-.94-2.06-.94 2.06-2.06.94zm-11 1L8.5 8.5l.94-2.06 2.06-.94-2.06-.94L8.5 2.5l-.94 2.06-2.06.94zm10 10l.94 2.06.94-2.06 2.06-.94-2.06-.94-.94-2.06-.94 2.06-2.06.94z\"/><path d=\"M17.41 7.96l-1.37-1.37c-.4-.4-.92-.59-1.43-.59-.52 0-1.04.2-1.43.59L10.3 9.45l-7.72 7.72c-.78.78-.78 2.05 0 2.83L4 21.41c.39.39.9.59 1.41.59.51 0 1.02-.2 1.41-.59l7.78-7.78 2.81-2.81c.8-.78.8-2.07 0-2.86zM5.41 20L4 18.59l7.72-7.72 1.47 1.35L5.41 20z\"/>\n",
              "  </svg>\n",
              "      </button>\n",
              "      \n",
              "  <style>\n",
              "    .colab-df-container {\n",
              "      display:flex;\n",
              "      flex-wrap:wrap;\n",
              "      gap: 12px;\n",
              "    }\n",
              "\n",
              "    .colab-df-convert {\n",
              "      background-color: #E8F0FE;\n",
              "      border: none;\n",
              "      border-radius: 50%;\n",
              "      cursor: pointer;\n",
              "      display: none;\n",
              "      fill: #1967D2;\n",
              "      height: 32px;\n",
              "      padding: 0 0 0 0;\n",
              "      width: 32px;\n",
              "    }\n",
              "\n",
              "    .colab-df-convert:hover {\n",
              "      background-color: #E2EBFA;\n",
              "      box-shadow: 0px 1px 2px rgba(60, 64, 67, 0.3), 0px 1px 3px 1px rgba(60, 64, 67, 0.15);\n",
              "      fill: #174EA6;\n",
              "    }\n",
              "\n",
              "    [theme=dark] .colab-df-convert {\n",
              "      background-color: #3B4455;\n",
              "      fill: #D2E3FC;\n",
              "    }\n",
              "\n",
              "    [theme=dark] .colab-df-convert:hover {\n",
              "      background-color: #434B5C;\n",
              "      box-shadow: 0px 1px 3px 1px rgba(0, 0, 0, 0.15);\n",
              "      filter: drop-shadow(0px 1px 2px rgba(0, 0, 0, 0.3));\n",
              "      fill: #FFFFFF;\n",
              "    }\n",
              "  </style>\n",
              "\n",
              "      <script>\n",
              "        const buttonEl =\n",
              "          document.querySelector('#df-41186e11-eeda-43c2-9f4c-b56e2d279477 button.colab-df-convert');\n",
              "        buttonEl.style.display =\n",
              "          google.colab.kernel.accessAllowed ? 'block' : 'none';\n",
              "\n",
              "        async function convertToInteractive(key) {\n",
              "          const element = document.querySelector('#df-41186e11-eeda-43c2-9f4c-b56e2d279477');\n",
              "          const dataTable =\n",
              "            await google.colab.kernel.invokeFunction('convertToInteractive',\n",
              "                                                     [key], {});\n",
              "          if (!dataTable) return;\n",
              "\n",
              "          const docLinkHtml = 'Like what you see? Visit the ' +\n",
              "            '<a target=\"_blank\" href=https://colab.research.google.com/notebooks/data_table.ipynb>data table notebook</a>'\n",
              "            + ' to learn more about interactive tables.';\n",
              "          element.innerHTML = '';\n",
              "          dataTable['output_type'] = 'display_data';\n",
              "          await google.colab.output.renderOutput(dataTable, element);\n",
              "          const docLink = document.createElement('div');\n",
              "          docLink.innerHTML = docLinkHtml;\n",
              "          element.appendChild(docLink);\n",
              "        }\n",
              "      </script>\n",
              "    </div>\n",
              "  </div>\n",
              "  "
            ]
          },
          "metadata": {},
          "execution_count": 14
        }
      ]
    },
    {
      "cell_type": "code",
      "source": [
        "y_train"
      ],
      "metadata": {
        "colab": {
          "base_uri": "https://localhost:8080/"
        },
        "id": "D61YEHSuesv3",
        "outputId": "d051cfee-10f7-4605-f792-7a49b76e151b"
      },
      "execution_count": 15,
      "outputs": [
        {
          "output_type": "execute_result",
          "data": {
            "text/plain": [
              "0         4510000.0\n",
              "1        13231000.0\n",
              "2         2008000.0\n",
              "3        12680000.0\n",
              "4         3335000.0\n",
              "            ...    \n",
              "66995     4275000.0\n",
              "66996     2624000.0\n",
              "66997     4682000.0\n",
              "66998     3794000.0\n",
              "66999    11049000.0\n",
              "Name: price, Length: 67000, dtype: float64"
            ]
          },
          "metadata": {},
          "execution_count": 15
        }
      ]
    },
    {
      "cell_type": "code",
      "source": [
        "from sklearn.linear_model import LinearRegression\n",
        "from sklearn.neighbors import KNeighborsRegressor\n",
        "from sklearn.ensemble import RandomForestRegressor"
      ],
      "metadata": {
        "id": "NtKLLR4BVdCi"
      },
      "execution_count": 22,
      "outputs": []
    },
    {
      "cell_type": "code",
      "source": [
        "LR = LinearRegression()\n",
        "LR.fit(X_train, y_train)\n",
        "\n",
        "LR_pred = LR.predict(X_test)"
      ],
      "metadata": {
        "id": "EisS0d-SWuDf"
      },
      "execution_count": 23,
      "outputs": []
    },
    {
      "cell_type": "code",
      "source": [
        "LR_pred"
      ],
      "metadata": {
        "id": "M_32_bF8Wiun",
        "outputId": "53137b3a-9d87-402a-c436-5279906c87b4",
        "colab": {
          "base_uri": "https://localhost:8080/"
        }
      },
      "execution_count": 24,
      "outputs": [
        {
          "output_type": "execute_result",
          "data": {
            "text/plain": [
              "array([ 5786407.62247038,  3470914.8137691 ,  5288326.43659997, ...,\n",
              "        7171736.240448  , 27021755.53826118,  6274871.11817884])"
            ]
          },
          "metadata": {},
          "execution_count": 24
        }
      ]
    },
    {
      "cell_type": "code",
      "source": [
        "KNN = KNeighborsRegressor()\n",
        "KNN.fit(X_train, y_train)\n",
        "\n",
        "KNN_pred = KNN.predict(X_test)"
      ],
      "metadata": {
        "id": "RGJ84mfcOcXO"
      },
      "execution_count": 25,
      "outputs": []
    },
    {
      "cell_type": "code",
      "source": [
        "KNN_pred"
      ],
      "metadata": {
        "id": "kVva__0HOiu1",
        "outputId": "dd57489c-e934-4fce-d85b-ca34b60d905f",
        "colab": {
          "base_uri": "https://localhost:8080/"
        }
      },
      "execution_count": 26,
      "outputs": [
        {
          "output_type": "execute_result",
          "data": {
            "text/plain": [
              "array([ 3917000.,  3661000.,  6640000., ...,  4574600., 14909200.,\n",
              "        5971600.])"
            ]
          },
          "metadata": {},
          "execution_count": 26
        }
      ]
    },
    {
      "cell_type": "code",
      "source": [
        "X_train\n",
        "print(y_train.ravel())\n",
        "print(np.array(y_train))\n",
        "print(np.array(X_train))"
      ],
      "metadata": {
        "id": "eySzV1rXOyvo",
        "outputId": "5333bc8d-d9a5-496f-ed1e-11a8bf251b41",
        "colab": {
          "base_uri": "https://localhost:8080/"
        }
      },
      "execution_count": 27,
      "outputs": [
        {
          "output_type": "stream",
          "name": "stdout",
          "text": [
            "[ 4510000. 13231000.  2008000. ...  4682000.  3794000. 11049000.]\n",
            "[ 4510000. 13231000.  2008000. ...  4682000.  3794000. 11049000.]\n",
            "[[7.34138e+05 5.60000e+02 6.00000e-01 ... 0.00000e+00 0.00000e+00\n",
            "  0.00000e+00]\n",
            " [7.34138e+05 6.67000e+02 1.10000e+00 ... 0.00000e+00 0.00000e+00\n",
            "  0.00000e+00]\n",
            " [7.34138e+05 9.00000e+01 0.00000e+00 ... 0.00000e+00 0.00000e+00\n",
            "  0.00000e+00]\n",
            " ...\n",
            " [7.34503e+05 2.40000e+02 0.00000e+00 ... 0.00000e+00 0.00000e+00\n",
            "  0.00000e+00]\n",
            " [7.34503e+05 2.50000e+01 1.00000e+00 ... 0.00000e+00 0.00000e+00\n",
            "  0.00000e+00]\n",
            " [7.34503e+05 9.00000e+00 1.00000e+00 ... 0.00000e+00 0.00000e+00\n",
            "  0.00000e+00]]\n"
          ]
        }
      ]
    },
    {
      "cell_type": "code",
      "source": [
        "RF = RandomForestRegressor(n_estimators = 100)\n",
        "RF.fit(X_train, y_train.ravel())"
      ],
      "metadata": {
        "id": "aXW7M7ZYMEpd",
        "outputId": "786a7a4c-e08d-42d9-e268-ab01c5aae5e0",
        "colab": {
          "base_uri": "https://localhost:8080/"
        }
      },
      "execution_count": 37,
      "outputs": [
        {
          "output_type": "execute_result",
          "data": {
            "text/plain": [
              "RandomForestRegressor()"
            ]
          },
          "metadata": {},
          "execution_count": 37
        }
      ]
    },
    {
      "cell_type": "code",
      "source": [
        "RF_pred = RF.predict(X_test)"
      ],
      "metadata": {
        "id": "2cY6XJTvL8MQ"
      },
      "execution_count": 38,
      "outputs": []
    },
    {
      "cell_type": "code",
      "source": [
        "RF_pred"
      ],
      "metadata": {
        "id": "Cbj2VsIoTYl9",
        "outputId": "cbf0322e-0fcd-4b5b-a40a-fd40705f9a0e",
        "colab": {
          "base_uri": "https://localhost:8080/"
        }
      },
      "execution_count": 39,
      "outputs": [
        {
          "output_type": "execute_result",
          "data": {
            "text/plain": [
              "array([ 7912030.,  3577760.,  9029410., ...,  7575590., 35519040.,\n",
              "        6191620.])"
            ]
          },
          "metadata": {},
          "execution_count": 39
        }
      ]
    },
    {
      "cell_type": "code",
      "source": [
        "stack = np.hstack([LR_pred.reshape(-1, 1), KNN_pred.reshape(-1, 1), RF_pred.reshape(-1, 1)])\n",
        "stack"
      ],
      "metadata": {
        "id": "0gsMh1c_ThK7",
        "outputId": "f7770b24-1b5e-452d-b711-e6ee47ee1165",
        "colab": {
          "base_uri": "https://localhost:8080/"
        }
      },
      "execution_count": 40,
      "outputs": [
        {
          "output_type": "execute_result",
          "data": {
            "text/plain": [
              "array([[ 5786407.62247038,  3917000.        ,  7912030.        ],\n",
              "       [ 3470914.8137691 ,  3661000.        ,  3577760.        ],\n",
              "       [ 5288326.43659997,  6640000.        ,  9029410.        ],\n",
              "       ...,\n",
              "       [ 7171736.240448  ,  4574600.        ,  7575590.        ],\n",
              "       [27021755.53826118, 14909200.        , 35519040.        ],\n",
              "       [ 6274871.11817884,  5971600.        ,  6191620.        ]])"
            ]
          },
          "metadata": {},
          "execution_count": 40
        }
      ]
    },
    {
      "cell_type": "code",
      "source": [
        "y_test"
      ],
      "metadata": {
        "id": "l_pJd81yT6no",
        "outputId": "6c5fdfcd-64e1-45a5-c28d-bc8c679a5adf",
        "colab": {
          "base_uri": "https://localhost:8080/"
        }
      },
      "execution_count": 36,
      "outputs": [
        {
          "output_type": "execute_result",
          "data": {
            "text/plain": [
              "0         9638000.0\n",
              "1         2949000.0\n",
              "2         4169000.0\n",
              "3        13951000.0\n",
              "4         5910000.0\n",
              "            ...    \n",
              "32995     1697000.0\n",
              "32996     3620000.0\n",
              "32997     6712000.0\n",
              "32998    20835000.0\n",
              "32999     2909000.0\n",
              "Name: price, Length: 33000, dtype: float64"
            ]
          },
          "metadata": {},
          "execution_count": 36
        }
      ]
    },
    {
      "cell_type": "code",
      "source": [
        "test_stack = np.hstack([X_test, stack])\n",
        "test_stack"
      ],
      "metadata": {
        "id": "3nQqgK0IUCm1",
        "outputId": "603c4ebd-6197-46e8-b07f-11b2d0f2d88a",
        "colab": {
          "base_uri": "https://localhost:8080/"
        }
      },
      "execution_count": 43,
      "outputs": [
        {
          "output_type": "execute_result",
          "data": {
            "text/plain": [
              "array([[7.34503000e+05, 6.65000000e+02, 1.00000000e+00, ...,\n",
              "        5.78640762e+06, 3.91700000e+06, 7.91203000e+06],\n",
              "       [7.34503000e+05, 1.29000000e+02, 0.00000000e+00, ...,\n",
              "        3.47091481e+06, 3.66100000e+06, 3.57776000e+06],\n",
              "       [7.34503000e+05, 2.20000000e+02, 1.00000000e+00, ...,\n",
              "        5.28832644e+06, 6.64000000e+06, 9.02941000e+06],\n",
              "       ...,\n",
              "       [7.34563000e+05, 2.53000000e+02, 7.80000000e-01, ...,\n",
              "        7.17173624e+06, 4.57460000e+06, 7.57559000e+06],\n",
              "       [7.34563000e+05, 3.05000000e+02, 1.00000000e+00, ...,\n",
              "        2.70217555e+07, 1.49092000e+07, 3.55190400e+07],\n",
              "       [7.34563000e+05, 4.82000000e+02, 0.00000000e+00, ...,\n",
              "        6.27487112e+06, 5.97160000e+06, 6.19162000e+06]])"
            ]
          },
          "metadata": {},
          "execution_count": 43
        }
      ]
    },
    {
      "cell_type": "code",
      "source": [
        "RF = RandomForestRegressor(n_estimators = 100)\n",
        "RF.fit(test_stack, y_test.ravel())"
      ],
      "metadata": {
        "id": "knncHI5iUpNL",
        "outputId": "2c6c16e6-2418-4dfb-c376-9b9d8162574d",
        "colab": {
          "base_uri": "https://localhost:8080/"
        }
      },
      "execution_count": 44,
      "outputs": [
        {
          "output_type": "execute_result",
          "data": {
            "text/plain": [
              "RandomForestRegressor()"
            ]
          },
          "metadata": {},
          "execution_count": 44
        }
      ]
    }
  ]
}